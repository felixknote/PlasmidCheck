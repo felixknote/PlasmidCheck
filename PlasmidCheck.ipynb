{
 "cells": [
  {
   "cell_type": "code",
   "execution_count": 1,
   "id": "b28bbd11-c31c-45f4-9976-b68ddb3ce3b6",
   "metadata": {},
   "outputs": [],
   "source": [
    "import re\n",
    "import os\n",
    "import pandas as pd\n",
    "from Bio import SeqIO\n",
    "from Bio.Seq import Seq\n",
    "import PySimpleGUI as sg"
   ]
  },
  {
   "cell_type": "code",
   "execution_count": 2,
   "id": "a6b813c0-aeb4-465d-bbaa-b210c56f5289",
   "metadata": {},
   "outputs": [],
   "source": [
    "def load_sgRNAs(csv_path):\n",
    "    df = pd.read_csv(csv_path, delimiter=';')\n",
    "    df.columns = df.columns.str.strip().str.lower()\n",
    "    if \"name\" not in df.columns or \"sequence\" not in df.columns:\n",
    "        raise ValueError(f\"CSV must contain 'name' and 'sequence' columns. Found: {df.columns.tolist()}\")\n",
    "    df[\"sgRNA_only\"] = df[\"sequence\"].apply(lambda x: ''.join([c for c in str(x) if c.isupper()]))\n",
    "    return df"
   ]
  },
  {
   "cell_type": "code",
   "execution_count": 3,
   "id": "2008a8a3-5796-4ae5-91a1-984a13cb7e26",
   "metadata": {},
   "outputs": [],
   "source": [
    "def extract_ab1_sequence(file_path):\n",
    "    record = SeqIO.read(file_path, \"abi\")\n",
    "    return str(record.seq), record.letter_annotations.get(\"phred_quality\", [])"
   ]
  },
  {
   "cell_type": "code",
   "execution_count": 4,
   "id": "46f40858-8f57-4b02-b789-e67243f7ca97",
   "metadata": {},
   "outputs": [],
   "source": [
    "def process_folder(folder, primers):\n",
    "    summary = []\n",
    "    for file in os.listdir(folder):\n",
    "        if file.endswith(\".ab1\"):\n",
    "            ab1_path = os.path.join(folder, file)\n",
    "            fasta_path = os.path.join(folder, file.replace(\".ab1\", \".fasta\"))\n",
    "\n",
    "            ab1_seq, ab1_qual = extract_ab1_sequence(ab1_path)\n",
    "            avg_quality = sum(ab1_qual) / len(ab1_qual) if ab1_qual else 0\n",
    "            quality_ok = avg_quality >= 20\n",
    "\n",
    "            if os.path.exists(fasta_path):\n",
    "                fasta_seq = str(SeqIO.read(fasta_path, \"fasta\").seq).upper()\n",
    "                matched_guides = []\n",
    "                matched_guide_seqs = []\n",
    "                for _, row in primers.iterrows():\n",
    "                    guide_seq = row[\"sgRNA_only\"].upper()\n",
    "                    if guide_seq in fasta_seq:\n",
    "                        matched_guides.append(row[\"name\"])\n",
    "                        matched_guide_seqs.append(guide_seq)\n",
    "                if matched_guides:\n",
    "                    matched_guides_str = \";\".join(matched_guides)\n",
    "                    matched_guide_seqs_str = \";\".join(matched_guide_seqs)\n",
    "                else:\n",
    "                    matched_guides_str = \"No Match\"\n",
    "                    matched_guide_seqs_str = \"\"\n",
    "            else:\n",
    "                matched_guides_str = \"FASTA Not Found\"\n",
    "                matched_guide_seqs_str = \"\"\n",
    "\n",
    "            summary.append({\n",
    "                \"Filename\": file,\n",
    "                \"Avg Quality\": round(avg_quality, 2),\n",
    "                \"Quality OK\": quality_ok,\n",
    "                \"Matching sgRNA name(s)\": matched_guides_str,\n",
    "                \"Matched guide sequence(s)\": matched_guide_seqs_str\n",
    "            })\n",
    "\n",
    "    return pd.DataFrame(summary)"
   ]
  },
  {
   "cell_type": "code",
   "execution_count": 5,
   "id": "cf57517f-7ddd-4cbb-b802-3d489ed49b32",
   "metadata": {},
   "outputs": [],
   "source": [
    "def save_summary(df, folder):\n",
    "    output_path = os.path.join(folder, \"summary.csv\")\n",
    "    df.to_csv(output_path, index=False)"
   ]
  },
  {
   "cell_type": "code",
   "execution_count": 6,
   "id": "310d97a8-9e2f-4c52-b065-9b8bc503259f",
   "metadata": {},
   "outputs": [],
   "source": [
    "def gui():\n",
    "    sg.theme(\"LightBlue2\")\n",
    "    layout = [\n",
    "        [sg.Text(\"sgRNA CSV:\"), sg.InputText(), sg.FileBrowse(file_types=((\"CSV Files\", \"*.csv\"),))],\n",
    "        [sg.Text(\"Folder with .ab1/.fasta files:\"), sg.InputText(), sg.FolderBrowse()],\n",
    "        [sg.Button(\"Run\"), sg.Button(\"Exit\")]\n",
    "    ]\n",
    "    window = sg.Window(\"Golden Gate Plasmid Checker\", layout)\n",
    "\n",
    "    while True:\n",
    "        event, values = window.read()\n",
    "        if event in (sg.WINDOW_CLOSED, \"Exit\"):\n",
    "            break\n",
    "        if event == \"Run\":\n",
    "            primer_file = values[0]\n",
    "            folder = values[1]\n",
    "            try:\n",
    "                primers = load_sgRNAs(primer_file)\n",
    "                result_df = process_folder(folder, primers)\n",
    "                save_summary(result_df, folder)\n",
    "                sg.popup(\"Done!\", f\"Summary saved in {folder}\")\n",
    "            except Exception as e:\n",
    "                sg.popup_error(\"Error\", str(e))\n",
    "\n",
    "    window.close()"
   ]
  },
  {
   "cell_type": "code",
   "execution_count": 7,
   "id": "7bde5fb3-5c1e-445c-863f-51f5b9078ab4",
   "metadata": {},
   "outputs": [],
   "source": [
    "if __name__ == \"__main__\":\n",
    "    gui()"
   ]
  }
 ],
 "metadata": {
  "kernelspec": {
   "display_name": "Python 3 (ipykernel)",
   "language": "python",
   "name": "python3"
  },
  "language_info": {
   "codemirror_mode": {
    "name": "ipython",
    "version": 3
   },
   "file_extension": ".py",
   "mimetype": "text/x-python",
   "name": "python",
   "nbconvert_exporter": "python",
   "pygments_lexer": "ipython3",
   "version": "3.10.15"
  }
 },
 "nbformat": 4,
 "nbformat_minor": 5
}
